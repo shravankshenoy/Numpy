{
  "nbformat": 4,
  "nbformat_minor": 0,
  "metadata": {
    "colab": {
      "name": "Numpy CodeBase.ipynb",
      "provenance": []
    },
    "kernelspec": {
      "name": "python3",
      "display_name": "Python 3"
    }
  },
  "cells": [
    {
      "cell_type": "code",
      "metadata": {
        "id": "_tx80PSrUycB",
        "colab_type": "code",
        "colab": {}
      },
      "source": [
        "import numpy as np"
      ],
      "execution_count": 0,
      "outputs": []
    },
    {
      "cell_type": "markdown",
      "metadata": {
        "id": "X0CEQ2DtXKoz",
        "colab_type": "text"
      },
      "source": [
        "<h2> Numpy Useful Code Snippets </h2>"
      ]
    },
    {
      "cell_type": "code",
      "metadata": {
        "id": "xPdIMg6RXDRT",
        "colab_type": "code",
        "colab": {
          "base_uri": "https://localhost:8080/",
          "height": 34
        },
        "outputId": "dae247a1-90ca-477c-badb-101df77ff019"
      },
      "source": [
        "#Counting number of non-zero elements in an array\n",
        "array = [1, 0, 1, 0, 0, 0, 1]\n",
        "np.sum([1 for element in array if element != 0 ])\n"
      ],
      "execution_count": 19,
      "outputs": [
        {
          "output_type": "execute_result",
          "data": {
            "text/plain": [
              "3"
            ]
          },
          "metadata": {
            "tags": []
          },
          "execution_count": 19
        }
      ]
    },
    {
      "cell_type": "code",
      "metadata": {
        "id": "qEvBeGn2XHZg",
        "colab_type": "code",
        "colab": {
          "base_uri": "https://localhost:8080/",
          "height": 67
        },
        "outputId": "0e951c08-493f-4948-eecd-55103fd5b6a6"
      },
      "source": [
        "#Iterating through a dictionary in second line\n",
        "#Reversing the key and value of each item of a dictionary\n",
        "\n",
        "tag_fre = {'html':50,'css':74,'ml':65,'go':32}\n",
        "print({fre:lang for lang,fre in tag_fre.items()}) # => {50: 'html', 74: 'css', 65: 'ml', 32: 'go'}\n",
        "print({fre:lang for lang,fre in sorted(tag_fre.items(), key = lambda x:x[1])}) # => {32: 'go', 50: 'html', 65: 'ml', 74: 'css'} (sort dictionary by value)\n",
        "print({fre:lang for lang,fre in sorted(tag_fre.items(), key = lambda x:x[1], reverse = True )})# => {74: 'css', 65: 'ml', 50: 'html', 32: 'go'}\n"
      ],
      "execution_count": 20,
      "outputs": [
        {
          "output_type": "stream",
          "text": [
            "{50: 'html', 74: 'css', 65: 'ml', 32: 'go'}\n",
            "{32: 'go', 50: 'html', 65: 'ml', 74: 'css'}\n",
            "{74: 'css', 65: 'ml', 50: 'html', 32: 'go'}\n"
          ],
          "name": "stdout"
        }
      ]
    },
    {
      "cell_type": "code",
      "metadata": {
        "id": "_8CkqFLIXlow",
        "colab_type": "code",
        "colab": {
          "base_uri": "https://localhost:8080/",
          "height": 34
        },
        "outputId": "7d1f7329-ca24-4410-c193-65184f1e0812"
      },
      "source": [
        "#Add `elements of one list to another list\n",
        "total_vocab = ['hello', 'hi', 'how', 'you'] \n",
        "new_words = ['i', 'am', 'thank']\n",
        "total_vocab.extend(new_words) \n",
        "print(total_vocab)\t"
      ],
      "execution_count": 21,
      "outputs": [
        {
          "output_type": "stream",
          "text": [
            "['hello', 'hi', 'how', 'you', 'i', 'am', 'thank']\n"
          ],
          "name": "stdout"
        }
      ]
    },
    {
      "cell_type": "code",
      "metadata": {
        "id": "8mIpNtgZYy5E",
        "colab_type": "code",
        "colab": {
          "base_uri": "https://localhost:8080/",
          "height": 50
        },
        "outputId": "be227245-24b7-4bb2-ac16-87493bc42a84"
      },
      "source": [
        "#Sort tuples based on second parameter\n",
        "\n",
        "tuple_list = [(0,0.9999),(1,0.707),(2,0.84)]\n",
        "tuple_list.sort(key = lambda x:x[1] , reverse = True) # Highest value first\n",
        "print(tuple_list)  # => [(0, 0.9999), (2, 0.84), (1, 0.707)]\n",
        "#OR\n",
        "print(sorted(tuple_list , key = lambda x:x[1] , reverse = True)) # => [(0, 0.9999), (2, 0.84), (1, 0.707)]\n",
        "\t"
      ],
      "execution_count": 22,
      "outputs": [
        {
          "output_type": "stream",
          "text": [
            "[(0, 0.9999), (2, 0.84), (1, 0.707)]\n",
            "[(0, 0.9999), (2, 0.84), (1, 0.707)]\n"
          ],
          "name": "stdout"
        }
      ]
    },
    {
      "cell_type": "code",
      "metadata": {
        "id": "bj03fgxyYzP4",
        "colab_type": "code",
        "colab": {
          "base_uri": "https://localhost:8080/",
          "height": 34
        },
        "outputId": "8ec4049d-880c-4d18-ddba-e4614830fa16"
      },
      "source": [
        "#Converting one hot vector to a label number\n",
        "print(np.argmax([0,0,1,0,0])) # 2\n"
      ],
      "execution_count": 23,
      "outputs": [
        {
          "output_type": "stream",
          "text": [
            "2\n"
          ],
          "name": "stdout"
        }
      ]
    },
    {
      "cell_type": "code",
      "metadata": {
        "id": "lhqYS1LuYeLa",
        "colab_type": "code",
        "colab": {
          "base_uri": "https://localhost:8080/",
          "height": 118
        },
        "outputId": "430d0114-1af9-45a1-97ab-dde6e642f204"
      },
      "source": [
        "# The enumerate() function in Python is commonly used instead of the for loop. That’s because enumerate() can iterate \n",
        "# over the index of an item, as well as the item itself.Using enumerate() also makes the code cleaner, since you have to \n",
        "# write fewer lines. Use enumerate instead of len(range(data))\n",
        "\n",
        "months = ['Jan', 'Feb', 'Mar', 'Apr', 'May', 'Jun']\n",
        "for month_num, month in enumerate(months, start=1):\n",
        "  print(month_num ,' ', month) \n"
      ],
      "execution_count": 24,
      "outputs": [
        {
          "output_type": "stream",
          "text": [
            "1   Jan\n",
            "2   Feb\n",
            "3   Mar\n",
            "4   Apr\n",
            "5   May\n",
            "6   Jun\n"
          ],
          "name": "stdout"
        }
      ]
    },
    {
      "cell_type": "code",
      "metadata": {
        "id": "Q71LXXs_eIBn",
        "colab_type": "code",
        "colab": {}
      },
      "source": [
        ""
      ],
      "execution_count": 0,
      "outputs": []
    }
  ]
}